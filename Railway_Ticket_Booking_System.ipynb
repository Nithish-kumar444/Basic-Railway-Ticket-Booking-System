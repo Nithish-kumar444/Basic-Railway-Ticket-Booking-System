{
  "nbformat": 4,
  "nbformat_minor": 0,
  "metadata": {
    "colab": {
      "provenance": [],
      "authorship_tag": "ABX9TyPwSYBGBAakGfGFMyMGa9R/",
      "include_colab_link": true
    },
    "kernelspec": {
      "name": "python3",
      "display_name": "Python 3"
    },
    "language_info": {
      "name": "python"
    }
  },
  "cells": [
    {
      "cell_type": "markdown",
      "metadata": {
        "id": "view-in-github",
        "colab_type": "text"
      },
      "source": [
        "<a href=\"https://colab.research.google.com/github/Nithish-kumar44/Railway-Ticket-Booking-System/blob/main/Railway_Ticket_Booking_System.ipynb\" target=\"_parent\"><img src=\"https://colab.research.google.com/assets/colab-badge.svg\" alt=\"Open In Colab\"/></a>"
      ]
    },
    {
      "cell_type": "code",
      "execution_count": 1,
      "metadata": {
        "id": "4Sn8w0SAvCek"
      },
      "outputs": [],
      "source": [
        "import pandas as pd\n",
        "import random\n",
        "\n",
        "train_data = {\n",
        "    'Train': ['Shatabdi Express', 'Rajdhani Express', 'Garib Rath', 'Duronto Express'],\n",
        "    'Sleeper Seats': [100, 150, 200, 120],\n",
        "    'AC Seats': [50, 75, 60, 40],\n",
        "    'Sleeper Price': [500, 700, 300, 600],\n",
        "    'AC Price': [1200, 1500, 800, 1000]\n",
        "}\n",
        "\n",
        "trains = pd.DataFrame(train_data)\n",
        "\n",
        "def check_availability(train, class_type, num_seats):\n",
        "    if train in trains['Train'].values:\n",
        "        index = trains[trains['Train'] == train].index[0]\n",
        "        if class_type == 'Sleeper':\n",
        "            if trains.loc[index, 'Sleeper Seats'] >= num_seats:\n",
        "                return True\n",
        "            else:\n",
        "                return False\n",
        "        elif class_type == 'AC':\n",
        "            if trains.loc[index, 'AC Seats'] >= num_seats:\n",
        "                return True\n",
        "            else:\n",
        "                return False\n",
        "        else:\n",
        "            print(\"Invalid class type.\")\n",
        "            return False\n",
        "    else:\n",
        "        print(\"Train not found.\")\n",
        "        return False\n",
        "\n",
        "def book_tickets(train, class_type, num_seats):\n",
        "    if check_availability(train, class_type, num_seats):\n",
        "        index = trains[trains['Train'] == train].index[0]\n",
        "        if class_type == 'Sleeper':\n",
        "            trains.loc[index, 'Sleeper Seats'] -= num_seats\n",
        "            price = trains.loc[index, 'Sleeper Price']\n",
        "        elif class_type == 'AC':\n",
        "            trains.loc[index, 'AC Seats'] -= num_seats\n",
        "            price = trains.loc[index, 'AC Price']\n",
        "\n",
        "        pnr_number = \"\".join(random.choices('0123456789ABCDEFGHIJKLMNOPQRSTUVWXYZ', k=18))\n",
        "\n",
        "        print(\"Tickets booked successfully!\")\n",
        "        print(\"PNR Number:\", pnr_number)\n",
        "        print(\"Total fare:\", price * num_seats)\n",
        "    else:\n",
        "        print(\"Booking failed. Seats not available.\")"
      ]
    },
    {
      "cell_type": "code",
      "source": [
        "book_tickets('Shatabdi Express', 'AC', 2)\n",
        "\n",
        "book_tickets('Rajdhani Express', 'Sleeper', 5)\n",
        "\n",
        "print(\"\\nUpdated Train Availability:\\n\", trains)"
      ],
      "metadata": {
        "colab": {
          "base_uri": "https://localhost:8080/"
        },
        "id": "2L5fldiCvXV5",
        "outputId": "61479aab-299a-486d-a8ff-a650a6945432"
      },
      "execution_count": 2,
      "outputs": [
        {
          "output_type": "stream",
          "name": "stdout",
          "text": [
            "Tickets booked successfully!\n",
            "PNR Number: JBPT8PN2QOXJM3RY5J\n",
            "Total fare: 2400\n",
            "Tickets booked successfully!\n",
            "PNR Number: NMZVTXR4GB8OPFH9OP\n",
            "Total fare: 3500\n",
            "\n",
            "Updated Train Availability:\n",
            "               Train  Sleeper Seats  AC Seats  Sleeper Price  AC Price\n",
            "0  Shatabdi Express            100        48            500      1200\n",
            "1  Rajdhani Express            145        75            700      1500\n",
            "2        Garib Rath            200        60            300       800\n",
            "3   Duronto Express            120        40            600      1000\n"
          ]
        }
      ]
    }
  ]
}